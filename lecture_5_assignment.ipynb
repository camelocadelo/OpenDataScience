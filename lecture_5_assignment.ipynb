{
 "cells": [
  {
   "cell_type": "code",
   "execution_count": 12,
   "metadata": {},
   "outputs": [],
   "source": [
    "import numpy as np\n",
    "import pandas as pd"
   ]
  },
  {
   "cell_type": "code",
   "execution_count": 14,
   "metadata": {},
   "outputs": [],
   "source": [
    "train_df = pd.read_csv('credit_scoring_train.csv', index_col='client_id')"
   ]
  },
  {
   "cell_type": "code",
   "execution_count": 16,
   "metadata": {},
   "outputs": [],
   "source": [
    "test_df = pd.read_csv('credit_scoring_test.csv', index_col='client_id')"
   ]
  },
  {
   "cell_type": "code",
   "execution_count": 17,
   "metadata": {},
   "outputs": [],
   "source": [
    "y = train_df['Delinquent90']"
   ]
  },
  {
   "cell_type": "code",
   "execution_count": 18,
   "metadata": {},
   "outputs": [
    {
     "data": {
      "text/plain": [
       "client_id\n",
       "0        0\n",
       "1        0\n",
       "2        0\n",
       "3        0\n",
       "4        0\n",
       "5        0\n",
       "6        0\n",
       "7        0\n",
       "8        0\n",
       "9        0\n",
       "10       0\n",
       "11       0\n",
       "12       0\n",
       "13       0\n",
       "14       0\n",
       "15       0\n",
       "16       0\n",
       "17       0\n",
       "18       0\n",
       "19       0\n",
       "20       0\n",
       "21       0\n",
       "22       0\n",
       "23       0\n",
       "24       0\n",
       "25       0\n",
       "26       0\n",
       "27       0\n",
       "28       0\n",
       "29       0\n",
       "        ..\n",
       "74970    0\n",
       "74971    0\n",
       "74972    0\n",
       "74973    0\n",
       "74974    0\n",
       "74975    0\n",
       "74976    0\n",
       "74977    0\n",
       "74978    0\n",
       "74979    0\n",
       "74980    0\n",
       "74981    0\n",
       "74982    0\n",
       "74983    0\n",
       "74984    0\n",
       "74985    0\n",
       "74986    0\n",
       "74987    0\n",
       "74988    0\n",
       "74989    0\n",
       "74990    0\n",
       "74991    0\n",
       "74992    0\n",
       "74993    0\n",
       "74994    0\n",
       "74995    0\n",
       "74996    0\n",
       "74997    0\n",
       "74998    0\n",
       "74999    0\n",
       "Name: Delinquent90, Length: 75000, dtype: int64"
      ]
     },
     "execution_count": 18,
     "metadata": {},
     "output_type": "execute_result"
    }
   ],
   "source": [
    "y"
   ]
  },
  {
   "cell_type": "code",
   "execution_count": 19,
   "metadata": {},
   "outputs": [],
   "source": [
    "train_df.drop('Delinquent90', axis=1, inplace=True)"
   ]
  },
  {
   "cell_type": "code",
   "execution_count": 21,
   "metadata": {},
   "outputs": [
    {
     "data": {
      "text/html": [
       "<div>\n",
       "<style scoped>\n",
       "    .dataframe tbody tr th:only-of-type {\n",
       "        vertical-align: middle;\n",
       "    }\n",
       "\n",
       "    .dataframe tbody tr th {\n",
       "        vertical-align: top;\n",
       "    }\n",
       "\n",
       "    .dataframe thead th {\n",
       "        text-align: right;\n",
       "    }\n",
       "</style>\n",
       "<table border=\"1\" class=\"dataframe\">\n",
       "  <thead>\n",
       "    <tr style=\"text-align: right;\">\n",
       "      <th></th>\n",
       "      <th>DIR</th>\n",
       "      <th>Age</th>\n",
       "      <th>NumLoans</th>\n",
       "      <th>NumRealEstateLoans</th>\n",
       "      <th>NumDependents</th>\n",
       "      <th>Num30-59Delinquencies</th>\n",
       "      <th>Num60-89Delinquencies</th>\n",
       "      <th>Income</th>\n",
       "      <th>BalanceToCreditLimit</th>\n",
       "    </tr>\n",
       "    <tr>\n",
       "      <th>client_id</th>\n",
       "      <th></th>\n",
       "      <th></th>\n",
       "      <th></th>\n",
       "      <th></th>\n",
       "      <th></th>\n",
       "      <th></th>\n",
       "      <th></th>\n",
       "      <th></th>\n",
       "      <th></th>\n",
       "    </tr>\n",
       "  </thead>\n",
       "  <tbody>\n",
       "    <tr>\n",
       "      <th>0</th>\n",
       "      <td>0.496289</td>\n",
       "      <td>49.1</td>\n",
       "      <td>13</td>\n",
       "      <td>0</td>\n",
       "      <td>0.0</td>\n",
       "      <td>2</td>\n",
       "      <td>0</td>\n",
       "      <td>5298.360639</td>\n",
       "      <td>0.387028</td>\n",
       "    </tr>\n",
       "    <tr>\n",
       "      <th>1</th>\n",
       "      <td>0.433567</td>\n",
       "      <td>48.0</td>\n",
       "      <td>9</td>\n",
       "      <td>2</td>\n",
       "      <td>2.0</td>\n",
       "      <td>1</td>\n",
       "      <td>0</td>\n",
       "      <td>6008.056256</td>\n",
       "      <td>0.234679</td>\n",
       "    </tr>\n",
       "    <tr>\n",
       "      <th>2</th>\n",
       "      <td>2206.731199</td>\n",
       "      <td>55.5</td>\n",
       "      <td>21</td>\n",
       "      <td>1</td>\n",
       "      <td>NaN</td>\n",
       "      <td>1</td>\n",
       "      <td>0</td>\n",
       "      <td>NaN</td>\n",
       "      <td>0.348227</td>\n",
       "    </tr>\n",
       "    <tr>\n",
       "      <th>3</th>\n",
       "      <td>886.132793</td>\n",
       "      <td>55.3</td>\n",
       "      <td>3</td>\n",
       "      <td>0</td>\n",
       "      <td>0.0</td>\n",
       "      <td>0</td>\n",
       "      <td>0</td>\n",
       "      <td>NaN</td>\n",
       "      <td>0.971930</td>\n",
       "    </tr>\n",
       "    <tr>\n",
       "      <th>4</th>\n",
       "      <td>0.000000</td>\n",
       "      <td>52.3</td>\n",
       "      <td>1</td>\n",
       "      <td>0</td>\n",
       "      <td>0.0</td>\n",
       "      <td>0</td>\n",
       "      <td>0</td>\n",
       "      <td>2504.613105</td>\n",
       "      <td>1.004350</td>\n",
       "    </tr>\n",
       "  </tbody>\n",
       "</table>\n",
       "</div>"
      ],
      "text/plain": [
       "                   DIR   Age  NumLoans  NumRealEstateLoans  NumDependents  \\\n",
       "client_id                                                                   \n",
       "0             0.496289  49.1        13                   0            0.0   \n",
       "1             0.433567  48.0         9                   2            2.0   \n",
       "2          2206.731199  55.5        21                   1            NaN   \n",
       "3           886.132793  55.3         3                   0            0.0   \n",
       "4             0.000000  52.3         1                   0            0.0   \n",
       "\n",
       "           Num30-59Delinquencies  Num60-89Delinquencies       Income  \\\n",
       "client_id                                                              \n",
       "0                              2                      0  5298.360639   \n",
       "1                              1                      0  6008.056256   \n",
       "2                              1                      0          NaN   \n",
       "3                              0                      0          NaN   \n",
       "4                              0                      0  2504.613105   \n",
       "\n",
       "           BalanceToCreditLimit  \n",
       "client_id                        \n",
       "0                      0.387028  \n",
       "1                      0.234679  \n",
       "2                      0.348227  \n",
       "3                      0.971930  \n",
       "4                      1.004350  "
      ]
     },
     "execution_count": 21,
     "metadata": {},
     "output_type": "execute_result"
    }
   ],
   "source": [
    "train_df.head()"
   ]
  },
  {
   "cell_type": "code",
   "execution_count": null,
   "metadata": {},
   "outputs": [],
   "source": []
  },
  {
   "cell_type": "code",
   "execution_count": 22,
   "metadata": {},
   "outputs": [],
   "source": [
    "train_df['NumDependents'].fillna(train_df['NumDependents'].median(), inplace=True)\n",
    "train_df['Income'].fillna(train_df['Income'].median(), inplace=True)\n",
    "test_df['NumDependents'].fillna(test_df['NumDependents'].median(), inplace=True)\n",
    "test_df['Income'].fillna(test_df['Income'].median(), inplace=True)"
   ]
  },
  {
   "cell_type": "code",
   "execution_count": 24,
   "metadata": {},
   "outputs": [],
   "source": [
    "from sklearn.tree import DecisionTreeClassifier"
   ]
  },
  {
   "cell_type": "code",
   "execution_count": 25,
   "metadata": {},
   "outputs": [
    {
     "data": {
      "text/plain": [
       "DecisionTreeClassifier(class_weight=None, criterion='gini', max_depth=3,\n",
       "                       max_features=None, max_leaf_nodes=None,\n",
       "                       min_impurity_decrease=0.0, min_impurity_split=None,\n",
       "                       min_samples_leaf=1, min_samples_split=2,\n",
       "                       min_weight_fraction_leaf=0.0, presort=False,\n",
       "                       random_state=17, splitter='best')"
      ]
     },
     "execution_count": 25,
     "metadata": {},
     "output_type": "execute_result"
    }
   ],
   "source": [
    "first_tree = DecisionTreeClassifier(max_depth=3, random_state=17)\n",
    "first_tree.fit(train_df, y)"
   ]
  },
  {
   "cell_type": "code",
   "execution_count": 26,
   "metadata": {},
   "outputs": [],
   "source": [
    "first_tree_pred = first_tree.predict(test_df)"
   ]
  },
  {
   "cell_type": "code",
   "execution_count": 27,
   "metadata": {},
   "outputs": [],
   "source": [
    "def write_to_submission_file(predicted_labels, out_file,\n",
    "                             target='Delinquent90', index_label=\"client_id\"):\n",
    "    # turn predictions into data frame and save as csv file\n",
    "    predicted_df = pd.DataFrame(predicted_labels,\n",
    "                                index = np.arange(75000, \n",
    "                                                  predicted_labels.shape[0] + 75000),\n",
    "                                columns=[target])\n",
    "    predicted_df.to_csv(out_file, index_label=index_label)"
   ]
  },
  {
   "cell_type": "code",
   "execution_count": 28,
   "metadata": {},
   "outputs": [],
   "source": [
    "write_to_submission_file(first_tree_pred, 'credit_scoring_first_tree.csv')"
   ]
  },
  {
   "cell_type": "code",
   "execution_count": 29,
   "metadata": {},
   "outputs": [],
   "source": [
    "first_tree_pred_probability = first_tree.predict_proba(test_df)[:, 1]"
   ]
  },
  {
   "cell_type": "code",
   "execution_count": 30,
   "metadata": {},
   "outputs": [],
   "source": [
    "write_to_submission_file(first_tree_pred_probability, 'credit_scoring_first_tree.csv')"
   ]
  },
  {
   "cell_type": "code",
   "execution_count": 32,
   "metadata": {},
   "outputs": [],
   "source": [
    "from sklearn.model_selection import GridSearchCV"
   ]
  },
  {
   "cell_type": "code",
   "execution_count": 34,
   "metadata": {},
   "outputs": [
    {
     "name": "stdout",
     "output_type": "stream",
     "text": [
      "CPU times: user 2.15 s, sys: 120 ms, total: 2.27 s\n",
      "Wall time: 27.9 s\n"
     ]
    }
   ],
   "source": [
    "%%time\n",
    "tree_params = {'max_depth': list(range(3, 8)), \n",
    "               'min_samples_leaf': list(range(5, 13))}\n",
    "\n",
    "locally_best_tree = GridSearchCV(first_tree, tree_params, cv = 5, n_jobs=-1)\n",
    "locally_best_tree.fit(train_df, y)"
   ]
  },
  {
   "cell_type": "code",
   "execution_count": 35,
   "metadata": {},
   "outputs": [
    {
     "data": {
      "text/plain": [
       "({'max_depth': 5, 'min_samples_leaf': 11}, 0.934)"
      ]
     },
     "execution_count": 35,
     "metadata": {},
     "output_type": "execute_result"
    }
   ],
   "source": [
    "locally_best_tree.best_params_, round(locally_best_tree.best_score_, 3)"
   ]
  },
  {
   "cell_type": "code",
   "execution_count": 36,
   "metadata": {},
   "outputs": [
    {
     "data": {
      "text/plain": [
       "array([0, 0, 0, ..., 0, 0, 0])"
      ]
     },
     "execution_count": 36,
     "metadata": {},
     "output_type": "execute_result"
    }
   ],
   "source": [
    "tuned_tree_pred_probability = locally_best_tree.predict(test_df)\n",
    "tuned_tree_pred_probability"
   ]
  },
  {
   "cell_type": "code",
   "execution_count": 37,
   "metadata": {},
   "outputs": [],
   "source": [
    "write_to_submission_file(tuned_tree_pred_probability, 'grid_search_tree.csv')"
   ]
  },
  {
   "cell_type": "code",
   "execution_count": 39,
   "metadata": {},
   "outputs": [
    {
     "name": "stdout",
     "output_type": "stream",
     "text": [
      "-rw-rw-r-- 1 kamilla kamilla  2096597 Мау 17 18:40 adult_test.csv\r\n",
      "-rw-rw-r-- 1 kamilla kamilla  3835686 Мау 17 18:40 adult_train.csv\r\n",
      "-rw-rw-r-- 1 kamilla kamilla    31107 Мау 17 18:40 beauty.csv\r\n",
      "-rw-r--r-- 1 kamilla kamilla  2300412 Шіл  3 03:42 benchmark1.csv\r\n",
      "-rw-r--r-- 1 kamilla kamilla  2046298 Шіл  5 17:27 credit_scoring_first_tree.csv\r\n",
      "-rw-rw-r-- 1 kamilla kamilla  1812928 Мау 17 18:40 credit_scoring_sample.csv\r\n",
      "-rw-rw-r-- 1 kamilla kamilla  3859157 Мау 17 18:40 credit_scoring_test.csv\r\n",
      "-rw-rw-r-- 1 kamilla kamilla  3948401 Мау 17 18:40 credit_scoring_train.csv\r\n",
      "-rw-rw-r-- 1 kamilla kamilla 88582391 Жел  1  2018 crypto-markets.csv\r\n",
      "-rw-r--r-- 1 kamilla kamilla  2997180 Мау 21 09:44 diam.csv\r\n",
      "-rw-r--r-- 1 kamilla kamilla   650023 Шіл  5 17:30 grid_search_tree.csv\r\n",
      "-rw-rw-r-- 1 kamilla kamilla   813469 Шіл  5 10:28 howpop_test.csv\r\n",
      "-rw-rw-r-- 1 kamilla kamilla 34032627 Шіл  5 10:29 howpop_train.csv\r\n",
      "-rw-r--r-- 1 kamilla kamilla   451405 Мау 21 09:50 h_test.csv\r\n",
      "-rw-r--r-- 1 kamilla kamilla   460676 Мау 21 09:50 h_train.csv\r\n",
      "-rw-rw-r-- 1 kamilla kamilla 89895496 Мау 26 10:00 mini.csv\r\n",
      "-rw-rw-r-- 1 kamilla kamilla  1177164 Мау 17 18:40 mlcourse_open_first_survey_parsed.csv\r\n",
      "-rwxr-xr-x 1 kamilla kamilla     5440 Қаз 26  2018 recommend_1.csv\r\n",
      "-rw-rw-r-- 1 kamilla kamilla  1230867 Шіл  1 21:27 sample_submission.csv\r\n",
      "-rwxr-xr-x 1 kamilla kamilla   279997 Мау 17 18:40 telecom_churn.csv\r\n",
      "-rw-rw-r-- 1 kamilla kamilla 19450729 Шіл  1 21:28 test_sessions.csv\r\n",
      "-rw-rw-r-- 1 kamilla kamilla    60302 Мау 17 18:40 titanic_train.csv\r\n",
      "-rw-rw-r-- 1 kamilla kamilla 60526801 Шіл  1 21:28 train_sessions.csv\r\n",
      "-rwxr-xr-x 1 kamilla kamilla  1021684 Қаз 26  2018 trx_data.csv\r\n",
      "-rw-r--r-- 1 kamilla kamilla   120861 Қаң 28  2017 user0002.csv\r\n",
      "-rwxr-xr-x 1 kamilla kamilla  1618040 Мау 17 18:40 video_games_sales.csv\r\n"
     ]
    }
   ],
   "source": [
    "!ls -l *.csv"
   ]
  },
  {
   "cell_type": "code",
   "execution_count": 40,
   "metadata": {},
   "outputs": [],
   "source": [
    "from sklearn.ensemble import RandomForestClassifier"
   ]
  },
  {
   "cell_type": "code",
   "execution_count": 41,
   "metadata": {},
   "outputs": [
    {
     "data": {
      "text/plain": [
       "RandomForestClassifier(bootstrap=True, class_weight=None, criterion='gini',\n",
       "                       max_depth=None, max_features='auto', max_leaf_nodes=None,\n",
       "                       min_impurity_decrease=0.0, min_impurity_split=None,\n",
       "                       min_samples_leaf=1, min_samples_split=2,\n",
       "                       min_weight_fraction_leaf=0.0, n_estimators=10,\n",
       "                       n_jobs=None, oob_score=False, random_state=17, verbose=0,\n",
       "                       warm_start=False)"
      ]
     },
     "execution_count": 41,
     "metadata": {},
     "output_type": "execute_result"
    }
   ],
   "source": [
    "first_forest = RandomForestClassifier(random_state=17)\n",
    "first_forest.fit(train_df, y)"
   ]
  },
  {
   "cell_type": "code",
   "execution_count": 42,
   "metadata": {},
   "outputs": [
    {
     "data": {
      "text/plain": [
       "array([0, 1, 0, ..., 0, 0, 0])"
      ]
     },
     "execution_count": 42,
     "metadata": {},
     "output_type": "execute_result"
    }
   ],
   "source": [
    "first_forest_pred = first_forest.predict(test_df)\n",
    "first_forest_pred"
   ]
  },
  {
   "cell_type": "code",
   "execution_count": 43,
   "metadata": {},
   "outputs": [],
   "source": [
    "write_to_submission_file(first_forest_pred, 'forest_w_maxdepth.csv')"
   ]
  },
  {
   "cell_type": "code",
   "execution_count": 44,
   "metadata": {},
   "outputs": [
    {
     "data": {
      "text/plain": [
       "GridSearchCV(cv=5, error_score='raise-deprecating',\n",
       "             estimator=RandomForestClassifier(bootstrap=True, class_weight=None,\n",
       "                                              criterion='gini', max_depth=None,\n",
       "                                              max_features='auto',\n",
       "                                              max_leaf_nodes=None,\n",
       "                                              min_impurity_decrease=0.0,\n",
       "                                              min_impurity_split=None,\n",
       "                                              min_samples_leaf=1,\n",
       "                                              min_samples_split=2,\n",
       "                                              min_weight_fraction_leaf=0.0,\n",
       "                                              n_estimators=10, n_jobs=None,\n",
       "                                              oob_score=False, random_state=17,\n",
       "                                              verbose=0, warm_start=False),\n",
       "             iid='warn', n_jobs=-1,\n",
       "             param_grid={'max_features': array([0.3       , 0.41666667, 0.53333333, 0.65      , 0.76666667,\n",
       "       0.88333333, 1.        ])},\n",
       "             pre_dispatch='2*n_jobs', refit=True, return_train_score=False,\n",
       "             scoring=None, verbose=0)"
      ]
     },
     "execution_count": 44,
     "metadata": {},
     "output_type": "execute_result"
    }
   ],
   "source": [
    "forest_params = {'max_features': np.linspace(.3, 1, 7)}\n",
    "locally_best_forest = GridSearchCV(first_forest,forest_params, n_jobs=-1, cv = 5)\n",
    "locally_best_forest.fit(train_df, y)"
   ]
  },
  {
   "cell_type": "code",
   "execution_count": 45,
   "metadata": {},
   "outputs": [
    {
     "data": {
      "text/plain": [
       "({'max_features': 0.3}, 0.932)"
      ]
     },
     "execution_count": 45,
     "metadata": {},
     "output_type": "execute_result"
    }
   ],
   "source": [
    "locally_best_forest.best_params_, round(locally_best_forest.best_score_, 3)"
   ]
  },
  {
   "cell_type": "code",
   "execution_count": 46,
   "metadata": {},
   "outputs": [],
   "source": [
    "tuned_forest_pred = locally_best_forest.predict(test_df)"
   ]
  },
  {
   "cell_type": "code",
   "execution_count": 47,
   "metadata": {},
   "outputs": [],
   "source": [
    "write_to_submission_file(tuned_forest_pred, 'tuned_forest_pred.csv')"
   ]
  },
  {
   "cell_type": "code",
   "execution_count": 48,
   "metadata": {},
   "outputs": [
    {
     "name": "stdout",
     "output_type": "stream",
     "text": [
      "-rw-rw-r-- 1 kamilla kamilla  2096597 Мау 17 18:40 adult_test.csv\r\n",
      "-rw-rw-r-- 1 kamilla kamilla  3835686 Мау 17 18:40 adult_train.csv\r\n",
      "-rw-rw-r-- 1 kamilla kamilla    31107 Мау 17 18:40 beauty.csv\r\n",
      "-rw-r--r-- 1 kamilla kamilla  2300412 Шіл  3 03:42 benchmark1.csv\r\n",
      "-rw-r--r-- 1 kamilla kamilla  2046298 Шіл  5 17:27 credit_scoring_first_tree.csv\r\n",
      "-rw-rw-r-- 1 kamilla kamilla  1812928 Мау 17 18:40 credit_scoring_sample.csv\r\n",
      "-rw-rw-r-- 1 kamilla kamilla  3859157 Мау 17 18:40 credit_scoring_test.csv\r\n",
      "-rw-rw-r-- 1 kamilla kamilla  3948401 Мау 17 18:40 credit_scoring_train.csv\r\n",
      "-rw-rw-r-- 1 kamilla kamilla 88582391 Жел  1  2018 crypto-markets.csv\r\n",
      "-rw-r--r-- 1 kamilla kamilla  2997180 Мау 21 09:44 diam.csv\r\n",
      "-rw-r--r-- 1 kamilla kamilla   650023 Шіл  5 17:31 forest_w_maxdepth.csv\r\n",
      "-rw-r--r-- 1 kamilla kamilla   650023 Шіл  5 17:30 grid_search_tree.csv\r\n",
      "-rw-rw-r-- 1 kamilla kamilla   813469 Шіл  5 10:28 howpop_test.csv\r\n",
      "-rw-rw-r-- 1 kamilla kamilla 34032627 Шіл  5 10:29 howpop_train.csv\r\n",
      "-rw-r--r-- 1 kamilla kamilla   451405 Мау 21 09:50 h_test.csv\r\n",
      "-rw-r--r-- 1 kamilla kamilla   460676 Мау 21 09:50 h_train.csv\r\n",
      "-rw-rw-r-- 1 kamilla kamilla 89895496 Мау 26 10:00 mini.csv\r\n",
      "-rw-rw-r-- 1 kamilla kamilla  1177164 Мау 17 18:40 mlcourse_open_first_survey_parsed.csv\r\n",
      "-rwxr-xr-x 1 kamilla kamilla     5440 Қаз 26  2018 recommend_1.csv\r\n",
      "-rw-rw-r-- 1 kamilla kamilla  1230867 Шіл  1 21:27 sample_submission.csv\r\n",
      "-rwxr-xr-x 1 kamilla kamilla   279997 Мау 17 18:40 telecom_churn.csv\r\n",
      "-rw-rw-r-- 1 kamilla kamilla 19450729 Шіл  1 21:28 test_sessions.csv\r\n",
      "-rw-rw-r-- 1 kamilla kamilla    60302 Мау 17 18:40 titanic_train.csv\r\n",
      "-rw-rw-r-- 1 kamilla kamilla 60526801 Шіл  1 21:28 train_sessions.csv\r\n",
      "-rwxr-xr-x 1 kamilla kamilla  1021684 Қаз 26  2018 trx_data.csv\r\n",
      "-rw-r--r-- 1 kamilla kamilla   650023 Шіл  5 17:33 tuned_forest_pred.csv\r\n",
      "-rw-r--r-- 1 kamilla kamilla   120861 Қаң 28  2017 user0002.csv\r\n",
      "-rwxr-xr-x 1 kamilla kamilla  1618040 Мау 17 18:40 video_games_sales.csv\r\n"
     ]
    }
   ],
   "source": [
    "!ls -l *.csv"
   ]
  },
  {
   "cell_type": "code",
   "execution_count": 49,
   "metadata": {},
   "outputs": [
    {
     "data": {
      "text/html": [
       "<div>\n",
       "<style scoped>\n",
       "    .dataframe tbody tr th:only-of-type {\n",
       "        vertical-align: middle;\n",
       "    }\n",
       "\n",
       "    .dataframe tbody tr th {\n",
       "        vertical-align: top;\n",
       "    }\n",
       "\n",
       "    .dataframe thead th {\n",
       "        text-align: right;\n",
       "    }\n",
       "</style>\n",
       "<table border=\"1\" class=\"dataframe\">\n",
       "  <thead>\n",
       "    <tr style=\"text-align: right;\">\n",
       "      <th></th>\n",
       "      <th>0</th>\n",
       "    </tr>\n",
       "  </thead>\n",
       "  <tbody>\n",
       "    <tr>\n",
       "      <th>0</th>\n",
       "      <td>0.166343</td>\n",
       "    </tr>\n",
       "    <tr>\n",
       "      <th>1</th>\n",
       "      <td>0.161029</td>\n",
       "    </tr>\n",
       "    <tr>\n",
       "      <th>2</th>\n",
       "      <td>0.093172</td>\n",
       "    </tr>\n",
       "    <tr>\n",
       "      <th>3</th>\n",
       "      <td>0.033461</td>\n",
       "    </tr>\n",
       "    <tr>\n",
       "      <th>4</th>\n",
       "      <td>0.041417</td>\n",
       "    </tr>\n",
       "    <tr>\n",
       "      <th>5</th>\n",
       "      <td>0.058877</td>\n",
       "    </tr>\n",
       "    <tr>\n",
       "      <th>6</th>\n",
       "      <td>0.062481</td>\n",
       "    </tr>\n",
       "    <tr>\n",
       "      <th>7</th>\n",
       "      <td>0.150709</td>\n",
       "    </tr>\n",
       "    <tr>\n",
       "      <th>8</th>\n",
       "      <td>0.232511</td>\n",
       "    </tr>\n",
       "  </tbody>\n",
       "</table>\n",
       "</div>"
      ],
      "text/plain": [
       "          0\n",
       "0  0.166343\n",
       "1  0.161029\n",
       "2  0.093172\n",
       "3  0.033461\n",
       "4  0.041417\n",
       "5  0.058877\n",
       "6  0.062481\n",
       "7  0.150709\n",
       "8  0.232511"
      ]
     },
     "execution_count": 49,
     "metadata": {},
     "output_type": "execute_result"
    }
   ],
   "source": [
    "pd.DataFrame(locally_best_forest.best_estimator_.feature_importances_)"
   ]
  },
  {
   "cell_type": "code",
   "execution_count": 50,
   "metadata": {},
   "outputs": [],
   "source": [
    "final_forest = RandomForestClassifier(n_estimators=300, max_features = 3, random_state=42,n_jobs=-1, oob_score=True) # Ваш код здесь\n",
    "final_forest.fit(train_df, y)\n",
    "final_forest_pred = final_forest.predict_proba(test_df)[:, 1]\n",
    "write_to_submission_file(final_forest_pred, 'credit_scoring_final_forest.csv')"
   ]
  },
  {
   "cell_type": "code",
   "execution_count": 51,
   "metadata": {},
   "outputs": [
    {
     "name": "stdout",
     "output_type": "stream",
     "text": [
      "-rw-rw-r-- 1 kamilla kamilla  2096597 Мау 17 18:40 adult_test.csv\r\n",
      "-rw-rw-r-- 1 kamilla kamilla  3835686 Мау 17 18:40 adult_train.csv\r\n",
      "-rw-rw-r-- 1 kamilla kamilla    31107 Мау 17 18:40 beauty.csv\r\n",
      "-rw-r--r-- 1 kamilla kamilla  2300412 Шіл  3 03:42 benchmark1.csv\r\n",
      "-rw-r--r-- 1 kamilla kamilla  1575121 Шіл  5 17:34 credit_scoring_final_forest.csv\r\n",
      "-rw-r--r-- 1 kamilla kamilla  2046298 Шіл  5 17:27 credit_scoring_first_tree.csv\r\n",
      "-rw-rw-r-- 1 kamilla kamilla  1812928 Мау 17 18:40 credit_scoring_sample.csv\r\n",
      "-rw-rw-r-- 1 kamilla kamilla  3859157 Мау 17 18:40 credit_scoring_test.csv\r\n",
      "-rw-rw-r-- 1 kamilla kamilla  3948401 Мау 17 18:40 credit_scoring_train.csv\r\n",
      "-rw-rw-r-- 1 kamilla kamilla 88582391 Жел  1  2018 crypto-markets.csv\r\n",
      "-rw-r--r-- 1 kamilla kamilla  2997180 Мау 21 09:44 diam.csv\r\n",
      "-rw-r--r-- 1 kamilla kamilla   650023 Шіл  5 17:31 forest_w_maxdepth.csv\r\n",
      "-rw-r--r-- 1 kamilla kamilla   650023 Шіл  5 17:30 grid_search_tree.csv\r\n",
      "-rw-rw-r-- 1 kamilla kamilla   813469 Шіл  5 10:28 howpop_test.csv\r\n",
      "-rw-rw-r-- 1 kamilla kamilla 34032627 Шіл  5 10:29 howpop_train.csv\r\n",
      "-rw-r--r-- 1 kamilla kamilla   451405 Мау 21 09:50 h_test.csv\r\n",
      "-rw-r--r-- 1 kamilla kamilla   460676 Мау 21 09:50 h_train.csv\r\n",
      "-rw-rw-r-- 1 kamilla kamilla 89895496 Мау 26 10:00 mini.csv\r\n",
      "-rw-rw-r-- 1 kamilla kamilla  1177164 Мау 17 18:40 mlcourse_open_first_survey_parsed.csv\r\n",
      "-rwxr-xr-x 1 kamilla kamilla     5440 Қаз 26  2018 recommend_1.csv\r\n",
      "-rw-rw-r-- 1 kamilla kamilla  1230867 Шіл  1 21:27 sample_submission.csv\r\n",
      "-rwxr-xr-x 1 kamilla kamilla   279997 Мау 17 18:40 telecom_churn.csv\r\n",
      "-rw-rw-r-- 1 kamilla kamilla 19450729 Шіл  1 21:28 test_sessions.csv\r\n",
      "-rw-rw-r-- 1 kamilla kamilla    60302 Мау 17 18:40 titanic_train.csv\r\n",
      "-rw-rw-r-- 1 kamilla kamilla 60526801 Шіл  1 21:28 train_sessions.csv\r\n",
      "-rwxr-xr-x 1 kamilla kamilla  1021684 Қаз 26  2018 trx_data.csv\r\n",
      "-rw-r--r-- 1 kamilla kamilla   650023 Шіл  5 17:33 tuned_forest_pred.csv\r\n",
      "-rw-r--r-- 1 kamilla kamilla   120861 Қаң 28  2017 user0002.csv\r\n",
      "-rwxr-xr-x 1 kamilla kamilla  1618040 Мау 17 18:40 video_games_sales.csv\r\n"
     ]
    }
   ],
   "source": [
    "!ls -l *.csv"
   ]
  },
  {
   "cell_type": "code",
   "execution_count": null,
   "metadata": {},
   "outputs": [],
   "source": []
  }
 ],
 "metadata": {
  "kernelspec": {
   "display_name": "Python 3",
   "language": "python",
   "name": "python3"
  },
  "language_info": {
   "codemirror_mode": {
    "name": "ipython",
    "version": 3
   },
   "file_extension": ".py",
   "mimetype": "text/x-python",
   "name": "python",
   "nbconvert_exporter": "python",
   "pygments_lexer": "ipython3",
   "version": "3.6.7"
  }
 },
 "nbformat": 4,
 "nbformat_minor": 2
}
